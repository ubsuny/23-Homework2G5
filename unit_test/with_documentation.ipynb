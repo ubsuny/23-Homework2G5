{
  "nbformat": 4,
  "nbformat_minor": 0,
  "metadata": {
    "colab": {
      "provenance": [],
      "authorship_tag": "ABX9TyOUTUS4jcRPyw1jgFiBZaSK",
      "include_colab_link": true
    },
    "kernelspec": {
      "name": "python3",
      "display_name": "Python 3"
    },
    "language_info": {
      "name": "python"
    }
  },
  "cells": [
    {
      "cell_type": "markdown",
      "metadata": {
        "id": "view-in-github",
        "colab_type": "text"
      },
      "source": [
        "<a href=\"https://colab.research.google.com/github/yasmensarhan27/23-Homework2G5/blob/yasmensarhan27-patch-2/unit_test_with_documentation.ipynb\" target=\"_parent\"><img src=\"https://colab.research.google.com/assets/colab-badge.svg\" alt=\"Open In Colab\"/></a>"
      ]
    },
    {
      "cell_type": "code",
      "source": [
        "#Python Code for inner and outer product\n",
        "import numpy as np\n",
        "def inner_product(a, b):\n",
        "  def outer_product(a, b):\n",
        "\n",
        "\n",
        "   \"\"\"\n",
        "   This Code Calculates the inner and outer product of two vectors using for loop.\n",
        "\n",
        "\n",
        "   Args:\n",
        "    a:   array representing the first vector.\n",
        "    b:   array representing the second vector.\n",
        "\n",
        "   Returns:\n",
        "    The inner product of the two vectors.\n",
        "    A numpy array representing the outer product of the two vectors.\n",
        "\n",
        "   \"\"\"\n",
        "\n",
        "#Add 2 vectors a and b as arrays\n",
        "a=[2,3,4]\n",
        "b=[1,2,5]\n",
        "#condition of inner product that return error if a and b are not of the same length\n",
        "if len(a) != len(b):\n",
        "  raise ValueError(\"The two vectors must be of the same length.\")\n",
        "#create variable inner_product of initial value zero\n",
        "inner_product = 0\n",
        "#apply for loop to calculate the inner product and return its value to the inner_product variable created obove\n",
        "for i in range(len(a)):\n",
        "  inner_product += a[i] * b[i]\n",
        "# print the value of the inner product\n",
        "print(\"inner product: \",inner_product)\n",
        "\n",
        "# create (length of a x length of b) matrix for the outer product that has elements equal zero.\n",
        "outer_product = np.zeros((len(a), len(b)))\n",
        "#apply for loop to calculate the outer product and return its matrix to the outer_product matrix created\n",
        "for i in range(len(a)):\n",
        "  for j in range(len(b)):\n",
        "    outer_product[i, j] = a[i] * b[j]\n",
        "#print the outer product matrix\n",
        "print(\"outer product: \",outer_product)\n",
        "\n",
        "#Calculating the time of calculating the inner product using for loop\n",
        "print(\"time of calculating inner product using for loop = \")\n",
        "%%timeit\n",
        "inner_product = 0\n",
        "for i in range(len(a)):\n",
        "  inner_product += a[i] * b[i]\n",
        "\n",
        "#Calculating the time of calculating the outer product using for loop\n",
        "print(\"time of calculating outer product using for loop = \")\n",
        "%%timeit\n",
        "outer_product = np.zeros((len(a), len(b)))\n",
        "for i in range(len(a)):\n",
        "  for j in range(len(b)):\n",
        "    outer_product[i, j] = a[i] * b[j]\n"
      ],
      "metadata": {
        "colab": {
          "base_uri": "https://localhost:8080/"
        },
        "id": "aspq2l2OyJht",
        "outputId": "e153c747-b521-4f80-9740-b3cfb6e77c38"
      },
      "execution_count": null,
      "outputs": [
        {
          "output_type": "stream",
          "name": "stdout",
          "text": [
            "inner product:  28\n",
            "outer product:  [[ 2.  4. 10.]\n",
            " [ 3.  6. 15.]\n",
            " [ 4.  8. 20.]]\n",
            "time of calculating inner product using for loop = \n"
          ]
        },
        {
          "output_type": "stream",
          "name": "stderr",
          "text": [
            "UsageError: Line magic function `%%timeit` not found.\n"
          ]
        }
      ]
    },
    {
      "cell_type": "code",
      "source": [
        "#using Numpy\n",
        "import numpy as np\n",
        "\"\"\"\n",
        "This Code Calculates the inner and outer product of two vectors using numpy built in functions\n",
        "Args:\n",
        "a:  NumPy array representing the first vector.\n",
        "b:  NumPy array representing the second vector.\n",
        "Returns:\n",
        "    The inner product of the two vectors.\n",
        "    A numpy array representing the outer product of the two vectors.\n",
        "\n",
        "\"\"\"\n",
        "# Create two vectors\n",
        "a = np.array([2,3,4])\n",
        "b = np.array([1,2,5])\n",
        "\n",
        "# Create a new matrix of zeros with the same dimensions as the outer product\n",
        "outer_product = np.zeros((len(a), len(b)))\n",
        "#use numpy built in fuction to calculate the outer product\n",
        "outer_product = np.outer(a,b)\n",
        "#print the outer product\n",
        "print(\"outer Product of a and b is: \", outer_product)\n",
        "\n",
        "#use numpy builtin function to calculate the inner product\n",
        "inner_product=np.inner(a,b)\n",
        "# Print the inner product\n",
        "print(\"Inner Product of a and b is: \",inner_product)\n",
        "\n",
        "#Calculating the time of calculating the inner product using numpy\n",
        "print(\"time of calculating inner product using numpy = \")\n",
        "%timeit np.inner(a,b)\n",
        "\n",
        "#Calculating the time of calculating the outer product using numpy\n",
        "print(\"time of calculating outer product using numpy = \")\n",
        "%timeit np.outer(a,b)\n"
      ],
      "metadata": {
        "colab": {
          "base_uri": "https://localhost:8080/"
        },
        "id": "8NcVik3lyPWf",
        "outputId": "6f76446b-8232-41c0-dd2e-f62885d7db00"
      },
      "execution_count": null,
      "outputs": [
        {
          "output_type": "stream",
          "name": "stdout",
          "text": [
            "outer Product of a and b is:  [[ 2  4 10]\n",
            " [ 3  6 15]\n",
            " [ 4  8 20]]\n",
            "Inner Product of a and b is:  28\n",
            "time of calculating inner product using numpy = \n",
            "1.75 µs ± 97.6 ns per loop (mean ± std. dev. of 7 runs, 100000 loops each)\n",
            "time of calculating outer product using numpy = \n",
            "6.49 µs ± 1.06 µs per loop (mean ± std. dev. of 7 runs, 100000 loops each)\n"
          ]
        }
      ]
    },
    {
      "cell_type": "code",
      "source": [
        "#use einsum\n",
        "import numpy as np\n",
        "\"\"\"\n",
        "This Code Calculates the inner and outer product of two vectors using numpy built in einsum function\n",
        "Args:\n",
        "a:  NumPy array representing the first vector.\n",
        "b:  NumPy array representing the second vector.\n",
        "Returns:\n",
        "    The inner product of the two vectors.\n",
        "    A numpy array representing the outer product of the two vectors.\n",
        "\n",
        "\"\"\"\n",
        "# Create two vectors: a and b. Each vector has three elements\n",
        "a = np.array([2,3,4])\n",
        "b = np.array([1,2,5])\n",
        "\n",
        "# Calculate the inner product using Einstein notation\n",
        "inner_product = np.einsum('i,i', a, b)\n",
        "\n",
        "# Calculate the outer product using Einstein notation\n",
        "outer_product = np.einsum('i,j', a, b)\n",
        "\n",
        "# Print the outer product\n",
        "print(\"outer product=\", outer_product)\n",
        "\n",
        "# Print the inner product\n",
        "print(\"inner product= \", inner_product)\n",
        "\n",
        "#Calculating the time of calculating the inner product using eisnum\n",
        "print(\"time of calculating inner product using einsum = \")\n",
        "%timeit np.einsum('i,i', a, b)\n",
        "\n",
        "#Calculating the time of calculating the outer product using eisnum\n",
        "print(\"time of calculating outer product using einsum = \")\n",
        "%timeit np.einsum('i,j', a, b)"
      ],
      "metadata": {
        "id": "5TvjljKiyWdo"
      },
      "execution_count": null,
      "outputs": []
    }
  ]
}
